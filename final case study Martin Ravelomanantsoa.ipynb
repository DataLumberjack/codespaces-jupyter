{
 "cells": [
  {
   "attachments": {},
   "cell_type": "markdown",
   "metadata": {},
   "source": [
    "final case study"
   ]
  },
  {
   "attachments": {},
   "cell_type": "markdown",
   "metadata": {},
   "source": [
    "This dataset contains both categorical and continuous variables :\n",
    "- UID: This represents a unique identifier for each observation in the dataset.\n",
    "- Product.ID: This represents the ID of the product being manufactured.\n",
    "- Type: This represents the type of product being manufactured.\n",
    "- Air.temperature: This represents the air temperature during the manufacturing process.\n",
    "- Process.temperature: This represents the temperature of the manufacturing process.\n",
    "- Rotational.speed: This represents the rotational speed of the manufacturing process.\n",
    "- Torque: This represents the torque of the manufacturing process.\n",
    "- Tool.wear: This represents the amount of wear on the manufacturing tool.\n",
    "- Machine.failure: This represents whether or not the machine failed during the manufacturing process, with 0 indicating no failure and 1 indicating failure.\n",
    "\n",
    "The goal of the analysis is to predict machine failures."
   ]
  },
  {
   "attachments": {},
   "cell_type": "markdown",
   "metadata": {},
   "source": [
    "1. Data loading and inspection"
   ]
  },
  {
   "cell_type": "code",
   "execution_count": 84,
   "metadata": {},
   "outputs": [
    {
     "name": "stdout",
     "output_type": "stream",
     "text": [
      "   Unnamed: 0  ï..UDI Product.ID Type  Air.temperature  Process.temperature  \\\n",
      "0        2583    2583     L49762    L            299.2                309.0   \n",
      "1          22      22     L47201    L            298.8                309.3   \n",
      "2        9435    9435     L56614    L            298.0                308.6   \n",
      "3        1669    1669     L48848    L            298.2                307.9   \n",
      "4        6336    6336     M21195    M            300.4                309.8   \n",
      "\n",
      "   Rotational.speed  Torque  Tool.wear  Machine.failure  \n",
      "0              1615    33.7        193                0  \n",
      "1              1450    44.8         63                0  \n",
      "2              1626    33.3         50                0  \n",
      "3              1551    34.1        190                0  \n",
      "4              1430    43.4        198                0  \n"
     ]
    }
   ],
   "source": [
    "import pandas as pd\n",
    "\n",
    "#setting the first row as the column headers, replaces missing values with NaN\n",
    "df = pd.read_csv('/Users/martinravelo/Downloads/data12.csv', header=0, encoding='latin-1', na_values=['NA', 'nan'])\n",
    "#reset the index of the DataFrame\n",
    "df = df.reset_index(drop=True)\n",
    "#saving the modified dataset to a new CSV file, and print the first five rows of the DataFrame.\n",
    "df.to_csv('modified_dataset.csv', index=False)\n",
    "print(df.head())"
   ]
  },
  {
   "attachments": {},
   "cell_type": "markdown",
   "metadata": {},
   "source": [
    "2. Data preprocessing"
   ]
  },
  {
   "cell_type": "code",
   "execution_count": 85,
   "metadata": {},
   "outputs": [
    {
     "name": "stdout",
     "output_type": "stream",
     "text": [
      "    UID Product.ID Type  Air.temperature  Process.temperature  \\\n",
      "0  2583     L49762    L            299.2                309.0   \n",
      "1    22     L47201    L            298.8                309.3   \n",
      "2  9435     L56614    L            298.0                308.6   \n",
      "3  1669     L48848    L            298.2                307.9   \n",
      "4  6336     M21195    M            300.4                309.8   \n",
      "\n",
      "   Rotational.speed  Torque  Tool.wear  Machine.failure  \n",
      "0              1615    33.7        193                0  \n",
      "1              1450    44.8         63                0  \n",
      "2              1626    33.3         50                0  \n",
      "3              1551    34.1        190                0  \n",
      "4              1430    43.4        198                0  \n"
     ]
    }
   ],
   "source": [
    "\n",
    "#Drop the first column of the dataFrame\n",
    "df = df.drop(labels=df.columns[0], axis=1)\n",
    "#Renaming with the right name\n",
    "df = df.rename(columns={'ï..UDI': 'UID'})\n",
    "\n",
    "print(df.head())\n"
   ]
  },
  {
   "cell_type": "code",
   "execution_count": 87,
   "metadata": {},
   "outputs": [
    {
     "name": "stdout",
     "output_type": "stream",
     "text": [
      "Number of observations:  5000\n",
      "Number of variables:  9\n"
     ]
    }
   ],
   "source": [
    "\n",
    "import numpy as np\n",
    "import matplotlib.pyplot as plt\n",
    "import seaborn as sns\n",
    "\n",
    "\n",
    "#Checking the number of observations and variables\n",
    "print(\"Number of observations: \", df.shape[0])\n",
    "print(\"Number of variables: \", df.shape[1])"
   ]
  },
  {
   "cell_type": "code",
   "execution_count": 88,
   "metadata": {},
   "outputs": [
    {
     "name": "stdout",
     "output_type": "stream",
     "text": [
      "\n",
      "Variable distributions:\n",
      "                UID  Air.temperature  Process.temperature  Rotational.speed  \\\n",
      "count   5000.000000       5000.00000          5000.000000       5000.000000   \n",
      "mean    4988.705600        300.03062           310.024860       1535.294400   \n",
      "std     2869.765125          2.00432             1.494349        175.587196   \n",
      "min        5.000000        295.30000           305.800000       1181.000000   \n",
      "25%     2489.250000        298.40000           308.800000       1420.000000   \n",
      "50%     5005.000000        300.10000           310.100000       1501.000000   \n",
      "75%     7453.250000        301.60000           311.100000       1609.000000   \n",
      "max    10000.000000        304.40000           313.700000       2874.000000   \n",
      "\n",
      "            Torque    Tool.wear  Machine.failure  \n",
      "count  5000.000000  5000.000000      5000.000000  \n",
      "mean     40.109140   107.189600         0.035400  \n",
      "std       9.880782    63.780678         0.184807  \n",
      "min       4.200000     0.000000         0.000000  \n",
      "25%      33.300000    52.000000         0.000000  \n",
      "50%      40.100000   106.000000         0.000000  \n",
      "75%      47.000000   162.000000         0.000000  \n",
      "max      74.500000   251.000000         1.000000  \n"
     ]
    }
   ],
   "source": [
    "#Checking the distribution of the variables\n",
    "print(\"\\nVariable distributions:\")\n",
    "print(df.describe())"
   ]
  },
  {
   "attachments": {},
   "cell_type": "markdown",
   "metadata": {},
   "source": [
    "Checking for missing values and outliers to know if it will impact the accuracy and validity of the models. "
   ]
  },
  {
   "cell_type": "code",
   "execution_count": 89,
   "metadata": {},
   "outputs": [
    {
     "name": "stdout",
     "output_type": "stream",
     "text": [
      "\n",
      "Missing values:\n",
      "UID                    0\n",
      "Product.ID             0\n",
      "Type                   0\n",
      "Air.temperature        0\n",
      "Process.temperature    0\n",
      "Rotational.speed       0\n",
      "Torque                 0\n",
      "Tool.wear              0\n",
      "Machine.failure        0\n",
      "dtype: int64\n",
      "\n",
      "Outliers:\n"
     ]
    }
   ],
   "source": [
    "#Check for missing values and outliers\n",
    "print(\"\\nMissing values:\")\n",
    "print(df.isnull().sum())\n",
    "\n",
    "print(\"\\nOutliers:\")"
   ]
  },
  {
   "attachments": {},
   "cell_type": "markdown",
   "metadata": {},
   "source": [
    "No missing values"
   ]
  },
  {
   "cell_type": "code",
   "execution_count": null,
   "metadata": {},
   "outputs": [],
   "source": [
    "#plot the outliers in a boxplot to visualize it better\n",
    "numeric_cols = df.select_dtypes(include='number').columns.tolist()\n",
    "\n",
    "for column in numeric_cols:\n",
    "    plt.figure(figsize=(5,5))\n",
    "    sns.boxplot(y=column, data=df)\n",
    "    plt.show()\n"
   ]
  },
  {
   "attachments": {},
   "cell_type": "markdown",
   "metadata": {},
   "source": [
    "No outliers except for 'Machine.failure' 'Torque' and 'Rotational speed'"
   ]
  },
  {
   "attachments": {},
   "cell_type": "markdown",
   "metadata": {},
   "source": [
    "Checking the correlation between the variables to identify highly correlated variables and potentially remove one of them from the analysis to avoid multicollinearity. "
   ]
  },
  {
   "cell_type": "code",
   "execution_count": null,
   "metadata": {},
   "outputs": [],
   "source": [
    "#Check the correlation between the variables\n",
    "print(\"\\nCorrelation matrix:\")\n",
    "print(df.corr())\n",
    "sns.heatmap(df.corr(), annot=True, cmap=\"YlGnBu\")\n",
    "plt.show()"
   ]
  },
  {
   "attachments": {},
   "cell_type": "markdown",
   "metadata": {},
   "source": [
    "Checking the data type to ensure that each variable is represented in the correct format and potentially converted it"
   ]
  },
  {
   "cell_type": "code",
   "execution_count": 92,
   "metadata": {},
   "outputs": [
    {
     "name": "stdout",
     "output_type": "stream",
     "text": [
      "\n",
      "Data types:\n",
      "UID                      int64\n",
      "Product.ID              object\n",
      "Type                    object\n",
      "Air.temperature        float64\n",
      "Process.temperature    float64\n",
      "Rotational.speed         int64\n",
      "Torque                 float64\n",
      "Tool.wear                int64\n",
      "Machine.failure          int64\n",
      "dtype: object\n"
     ]
    }
   ],
   "source": [
    "#Other relevant information\n",
    "print(\"\\nData types:\")\n",
    "print(df.dtypes)"
   ]
  },
  {
   "attachments": {},
   "cell_type": "markdown",
   "metadata": {},
   "source": [
    "3. Model selection and training"
   ]
  },
  {
   "attachments": {},
   "cell_type": "markdown",
   "metadata": {},
   "source": [
    "LOGISTIC REGRESSION MODEL"
   ]
  },
  {
   "attachments": {},
   "cell_type": "markdown",
   "metadata": {},
   "source": [
    "Building a logistic regression for binary classification problems, because the goal is to predict an observation belongs two classes. In this case, i'm trying to predict the occurrence of machine failure, which is a binary variable (either 0 or 1).\n",
    "\n",
    "Logistic regression model the relationship between the independent variables (such as air temperature, process temperature, rotational speed, etc.) and the probability of machine failure to understand how changes in these variables affect the likelihood of a machine failure.\n",
    "\n"
   ]
  },
  {
   "cell_type": "code",
   "execution_count": 94,
   "metadata": {},
   "outputs": [],
   "source": [
    "#Import libraries\n",
    "\n",
    "from sklearn.linear_model import LogisticRegression\n",
    "from sklearn.metrics import roc_curve, auc\n",
    "import pandas as pd\n",
    "import numpy as np\n",
    "from sklearn.preprocessing import OneHotEncoder, MinMaxScaler, LabelEncoder\n",
    "from sklearn.model_selection import train_test_split\n",
    "from sklearn.ensemble import RandomForestClassifier\n",
    "from sklearn.metrics import accuracy_score, precision_score, recall_score, f1_score, roc_auc_score, roc_curve\n",
    "import matplotlib.pyplot as plt\n",
    "\n",
    "df.columns = df.columns.astype(str)\n"
   ]
  },
  {
   "attachments": {},
   "cell_type": "markdown",
   "metadata": {},
   "source": [
    "encoding categorical variables into numerical data to make them used in my models"
   ]
  },
  {
   "cell_type": "code",
   "execution_count": 95,
   "metadata": {},
   "outputs": [],
   "source": [
    "#Encode categorical variables\n",
    "encoder = OneHotEncoder()\n",
    "cat_features = ['Product.ID', 'Type']\n",
    "data_encoded = pd.concat([df.drop(cat_features, axis=1), pd.DataFrame(encoder.fit_transform(df[cat_features]).toarray())], axis=1)"
   ]
  },
  {
   "attachments": {},
   "cell_type": "markdown",
   "metadata": {},
   "source": [
    "Scaling to improve the performance of my models."
   ]
  },
  {
   "cell_type": "code",
   "execution_count": 96,
   "metadata": {},
   "outputs": [],
   "source": [
    "#Scale numerical variables\n",
    "scaler = MinMaxScaler()\n",
    "num_features = ['UID', 'Air.temperature', 'Process.temperature', 'Rotational.speed', 'Torque', 'Tool.wear']\n",
    "data_encoded[num_features] = scaler.fit_transform(data_encoded[num_features])"
   ]
  },
  {
   "cell_type": "code",
   "execution_count": 97,
   "metadata": {},
   "outputs": [],
   "source": [
    "#Split data into training and testing sets\n",
    "X_train, X_test, y_train, y_test = train_test_split(data_encoded.drop('Machine.failure', axis=1), data_encoded['Machine.failure'], test_size=0.3, random_state=42)"
   ]
  },
  {
   "cell_type": "code",
   "execution_count": 103,
   "metadata": {},
   "outputs": [],
   "source": [
    "X_train.columns = X_train.columns.astype(str)\n",
    "X_test.columns = X_test.columns.astype(str)\n"
   ]
  },
  {
   "cell_type": "code",
   "execution_count": 111,
   "metadata": {},
   "outputs": [
    {
     "data": {
      "text/html": [
       "<style>#sk-container-id-7 {color: black;background-color: white;}#sk-container-id-7 pre{padding: 0;}#sk-container-id-7 div.sk-toggleable {background-color: white;}#sk-container-id-7 label.sk-toggleable__label {cursor: pointer;display: block;width: 100%;margin-bottom: 0;padding: 0.3em;box-sizing: border-box;text-align: center;}#sk-container-id-7 label.sk-toggleable__label-arrow:before {content: \"▸\";float: left;margin-right: 0.25em;color: #696969;}#sk-container-id-7 label.sk-toggleable__label-arrow:hover:before {color: black;}#sk-container-id-7 div.sk-estimator:hover label.sk-toggleable__label-arrow:before {color: black;}#sk-container-id-7 div.sk-toggleable__content {max-height: 0;max-width: 0;overflow: hidden;text-align: left;background-color: #f0f8ff;}#sk-container-id-7 div.sk-toggleable__content pre {margin: 0.2em;color: black;border-radius: 0.25em;background-color: #f0f8ff;}#sk-container-id-7 input.sk-toggleable__control:checked~div.sk-toggleable__content {max-height: 200px;max-width: 100%;overflow: auto;}#sk-container-id-7 input.sk-toggleable__control:checked~label.sk-toggleable__label-arrow:before {content: \"▾\";}#sk-container-id-7 div.sk-estimator input.sk-toggleable__control:checked~label.sk-toggleable__label {background-color: #d4ebff;}#sk-container-id-7 div.sk-label input.sk-toggleable__control:checked~label.sk-toggleable__label {background-color: #d4ebff;}#sk-container-id-7 input.sk-hidden--visually {border: 0;clip: rect(1px 1px 1px 1px);clip: rect(1px, 1px, 1px, 1px);height: 1px;margin: -1px;overflow: hidden;padding: 0;position: absolute;width: 1px;}#sk-container-id-7 div.sk-estimator {font-family: monospace;background-color: #f0f8ff;border: 1px dotted black;border-radius: 0.25em;box-sizing: border-box;margin-bottom: 0.5em;}#sk-container-id-7 div.sk-estimator:hover {background-color: #d4ebff;}#sk-container-id-7 div.sk-parallel-item::after {content: \"\";width: 100%;border-bottom: 1px solid gray;flex-grow: 1;}#sk-container-id-7 div.sk-label:hover label.sk-toggleable__label {background-color: #d4ebff;}#sk-container-id-7 div.sk-serial::before {content: \"\";position: absolute;border-left: 1px solid gray;box-sizing: border-box;top: 0;bottom: 0;left: 50%;z-index: 0;}#sk-container-id-7 div.sk-serial {display: flex;flex-direction: column;align-items: center;background-color: white;padding-right: 0.2em;padding-left: 0.2em;position: relative;}#sk-container-id-7 div.sk-item {position: relative;z-index: 1;}#sk-container-id-7 div.sk-parallel {display: flex;align-items: stretch;justify-content: center;background-color: white;position: relative;}#sk-container-id-7 div.sk-item::before, #sk-container-id-7 div.sk-parallel-item::before {content: \"\";position: absolute;border-left: 1px solid gray;box-sizing: border-box;top: 0;bottom: 0;left: 50%;z-index: -1;}#sk-container-id-7 div.sk-parallel-item {display: flex;flex-direction: column;z-index: 1;position: relative;background-color: white;}#sk-container-id-7 div.sk-parallel-item:first-child::after {align-self: flex-end;width: 50%;}#sk-container-id-7 div.sk-parallel-item:last-child::after {align-self: flex-start;width: 50%;}#sk-container-id-7 div.sk-parallel-item:only-child::after {width: 0;}#sk-container-id-7 div.sk-dashed-wrapped {border: 1px dashed gray;margin: 0 0.4em 0.5em 0.4em;box-sizing: border-box;padding-bottom: 0.4em;background-color: white;}#sk-container-id-7 div.sk-label label {font-family: monospace;font-weight: bold;display: inline-block;line-height: 1.2em;}#sk-container-id-7 div.sk-label-container {text-align: center;}#sk-container-id-7 div.sk-container {/* jupyter's `normalize.less` sets `[hidden] { display: none; }` but bootstrap.min.css set `[hidden] { display: none !important; }` so we also need the `!important` here to be able to override the default hidden behavior on the sphinx rendered scikit-learn.org. See: https://github.com/scikit-learn/scikit-learn/issues/21755 */display: inline-block !important;position: relative;}#sk-container-id-7 div.sk-text-repr-fallback {display: none;}</style><div id=\"sk-container-id-7\" class=\"sk-top-container\"><div class=\"sk-text-repr-fallback\"><pre>LogisticRegression()</pre><b>In a Jupyter environment, please rerun this cell to show the HTML representation or trust the notebook. <br />On GitHub, the HTML representation is unable to render, please try loading this page with nbviewer.org.</b></div><div class=\"sk-container\" hidden><div class=\"sk-item\"><div class=\"sk-estimator sk-toggleable\"><input class=\"sk-toggleable__control sk-hidden--visually\" id=\"sk-estimator-id-7\" type=\"checkbox\" checked><label for=\"sk-estimator-id-7\" class=\"sk-toggleable__label sk-toggleable__label-arrow\">LogisticRegression</label><div class=\"sk-toggleable__content\"><pre>LogisticRegression()</pre></div></div></div></div></div>"
      ],
      "text/plain": [
       "LogisticRegression()"
      ]
     },
     "execution_count": 111,
     "metadata": {},
     "output_type": "execute_result"
    }
   ],
   "source": [
    "#Train a logistic regression model\n",
    "model = LogisticRegression()\n",
    "model.fit(X_train, y_train)\n"
   ]
  },
  {
   "cell_type": "code",
   "execution_count": 112,
   "metadata": {},
   "outputs": [],
   "source": [
    "#Predict probabilities on the test set\n",
    "probs = model.predict_proba(X_test)[:, 1]"
   ]
  },
  {
   "cell_type": "code",
   "execution_count": 106,
   "metadata": {},
   "outputs": [],
   "source": [
    "#Compute the false positive rate and true positive rate\n",
    "fpr, tpr, thresholds = roc_curve(y_test, probs)"
   ]
  },
  {
   "cell_type": "code",
   "execution_count": 107,
   "metadata": {},
   "outputs": [],
   "source": [
    "#Compute the area under the ROC curve\n",
    "roc_auc = auc(fpr, tpr)\n"
   ]
  },
  {
   "cell_type": "code",
   "execution_count": 108,
   "metadata": {},
   "outputs": [
    {
     "data": {
      "image/png": "[encoded data removed]",
      "text/plain": [
       "<Figure size 640x480 with 1 Axes>"
      ]
     },
     "metadata": {},
     "output_type": "display_data"
    }
   ],
   "source": [
    "#Plot the ROC curve\n",
    "import matplotlib.pyplot as plt\n",
    "plt.plot(fpr, tpr, color='blue', label='ROC curve')\n",
    "plt.plot([0, 1], [0, 1], color='red', linestyle='--', label='Random guess')\n",
    "plt.xlabel('False Positive Rate')\n",
    "plt.ylabel('True Positive Rate')\n",
    "plt.title('Receiver Operating Characteristic (ROC) Curve\\nAUC = {:.2f}'.format(roc_auc))\n",
    "plt.legend()\n",
    "plt.show()"
   ]
  },
  {
   "attachments": {},
   "cell_type": "markdown",
   "metadata": {},
   "source": [
    "Based on the ROC curve, we can see that the classifier performs better than random guessing as the curve is above the diagonal line. However, the curve is not increasing regularly and tends slightly more towards the true positive rate than the false positive rate. This indicates that the model is better at identifying true positives than false positives"
   ]
  },
  {
   "attachments": {},
   "cell_type": "markdown",
   "metadata": {},
   "source": [
    "RANDOM FOREST CLASSIFIER"
   ]
  },
  {
   "attachments": {},
   "cell_type": "markdown",
   "metadata": {},
   "source": [
    "Building a random forest classifier because in this case, there are multiple attributes (such as air temperature, process temperature, rotational speed, torque, and tool wear) and random forest can identify these complex relationships and interactions and use them to make predictions.\n",
    "\n",
    "Additionally, random forest can overfitting and handle large datasets with a large number of features as this one.\n",
    "\n",
    "This is important in this case because there are many attributes to consider and a large dataset may be required to accurately capture the relationship between these attributes and machine failure.\n"
   ]
  },
  {
   "cell_type": "code",
   "execution_count": 113,
   "metadata": {},
   "outputs": [],
   "source": [
    "# Import libraries\n",
    "import pandas as pd\n",
    "from sklearn.preprocessing import OneHotEncoder, MinMaxScaler\n",
    "from sklearn.model_selection import train_test_split\n",
    "from sklearn.ensemble import RandomForestClassifier\n",
    "from sklearn.metrics import accuracy_score, precision_score, recall_score, f1_score, roc_auc_score, roc_curve\n",
    "import matplotlib.pyplot as plt"
   ]
  },
  {
   "cell_type": "code",
   "execution_count": 114,
   "metadata": {},
   "outputs": [],
   "source": [
    "# Load data\n",
    "df = pd.read_csv('/Users/martinravelo/Downloads/data12.csv', header=0, encoding='latin-1', na_values=['NA', 'nan'])\n",
    "\n",
    "# Encode categorical variables\n",
    "encoder = OneHotEncoder()\n",
    "cat_features = ['Product.ID', 'Type']\n",
    "data_encoded = pd.concat([df.drop(cat_features, axis=1), pd.DataFrame(encoder.fit_transform(df[cat_features]).toarray())], axis=1)\n",
    "\n"
   ]
  },
  {
   "cell_type": "code",
   "execution_count": 116,
   "metadata": {},
   "outputs": [],
   "source": [
    "#Scale numerical variables\n",
    "scaler = MinMaxScaler()\n",
    "num_features = ['ï..UDI', 'Air.temperature', 'Process.temperature', 'Rotational.speed', 'Torque', 'Tool.wear']\n",
    "data_encoded[num_features] = scaler.fit_transform(data_encoded[num_features])\n"
   ]
  },
  {
   "cell_type": "code",
   "execution_count": 117,
   "metadata": {},
   "outputs": [],
   "source": [
    "# Split data into training and testing sets\n",
    "X_train, X_test, y_train, y_test = train_test_split(data_encoded.drop('Machine.failure', axis=1), data_encoded['Machine.failure'], test_size=0.3, random_state=42)"
   ]
  },
  {
   "cell_type": "code",
   "execution_count": 118,
   "metadata": {},
   "outputs": [
    {
     "data": {
      "text/html": [
       "<style>#sk-container-id-8 {color: black;background-color: white;}#sk-container-id-8 pre{padding: 0;}#sk-container-id-8 div.sk-toggleable {background-color: white;}#sk-container-id-8 label.sk-toggleable__label {cursor: pointer;display: block;width: 100%;margin-bottom: 0;padding: 0.3em;box-sizing: border-box;text-align: center;}#sk-container-id-8 label.sk-toggleable__label-arrow:before {content: \"▸\";float: left;margin-right: 0.25em;color: #696969;}#sk-container-id-8 label.sk-toggleable__label-arrow:hover:before {color: black;}#sk-container-id-8 div.sk-estimator:hover label.sk-toggleable__label-arrow:before {color: black;}#sk-container-id-8 div.sk-toggleable__content {max-height: 0;max-width: 0;overflow: hidden;text-align: left;background-color: #f0f8ff;}#sk-container-id-8 div.sk-toggleable__content pre {margin: 0.2em;color: black;border-radius: 0.25em;background-color: #f0f8ff;}#sk-container-id-8 input.sk-toggleable__control:checked~div.sk-toggleable__content {max-height: 200px;max-width: 100%;overflow: auto;}#sk-container-id-8 input.sk-toggleable__control:checked~label.sk-toggleable__label-arrow:before {content: \"▾\";}#sk-container-id-8 div.sk-estimator input.sk-toggleable__control:checked~label.sk-toggleable__label {background-color: #d4ebff;}#sk-container-id-8 div.sk-label input.sk-toggleable__control:checked~label.sk-toggleable__label {background-color: #d4ebff;}#sk-container-id-8 input.sk-hidden--visually {border: 0;clip: rect(1px 1px 1px 1px);clip: rect(1px, 1px, 1px, 1px);height: 1px;margin: -1px;overflow: hidden;padding: 0;position: absolute;width: 1px;}#sk-container-id-8 div.sk-estimator {font-family: monospace;background-color: #f0f8ff;border: 1px dotted black;border-radius: 0.25em;box-sizing: border-box;margin-bottom: 0.5em;}#sk-container-id-8 div.sk-estimator:hover {background-color: #d4ebff;}#sk-container-id-8 div.sk-parallel-item::after {content: \"\";width: 100%;border-bottom: 1px solid gray;flex-grow: 1;}#sk-container-id-8 div.sk-label:hover label.sk-toggleable__label {background-color: #d4ebff;}#sk-container-id-8 div.sk-serial::before {content: \"\";position: absolute;border-left: 1px solid gray;box-sizing: border-box;top: 0;bottom: 0;left: 50%;z-index: 0;}#sk-container-id-8 div.sk-serial {display: flex;flex-direction: column;align-items: center;background-color: white;padding-right: 0.2em;padding-left: 0.2em;position: relative;}#sk-container-id-8 div.sk-item {position: relative;z-index: 1;}#sk-container-id-8 div.sk-parallel {display: flex;align-items: stretch;justify-content: center;background-color: white;position: relative;}#sk-container-id-8 div.sk-item::before, #sk-container-id-8 div.sk-parallel-item::before {content: \"\";position: absolute;border-left: 1px solid gray;box-sizing: border-box;top: 0;bottom: 0;left: 50%;z-index: -1;}#sk-container-id-8 div.sk-parallel-item {display: flex;flex-direction: column;z-index: 1;position: relative;background-color: white;}#sk-container-id-8 div.sk-parallel-item:first-child::after {align-self: flex-end;width: 50%;}#sk-container-id-8 div.sk-parallel-item:last-child::after {align-self: flex-start;width: 50%;}#sk-container-id-8 div.sk-parallel-item:only-child::after {width: 0;}#sk-container-id-8 div.sk-dashed-wrapped {border: 1px dashed gray;margin: 0 0.4em 0.5em 0.4em;box-sizing: border-box;padding-bottom: 0.4em;background-color: white;}#sk-container-id-8 div.sk-label label {font-family: monospace;font-weight: bold;display: inline-block;line-height: 1.2em;}#sk-container-id-8 div.sk-label-container {text-align: center;}#sk-container-id-8 div.sk-container {/* jupyter's `normalize.less` sets `[hidden] { display: none; }` but bootstrap.min.css set `[hidden] { display: none !important; }` so we also need the `!important` here to be able to override the default hidden behavior on the sphinx rendered scikit-learn.org. See: https://github.com/scikit-learn/scikit-learn/issues/21755 */display: inline-block !important;position: relative;}#sk-container-id-8 div.sk-text-repr-fallback {display: none;}</style><div id=\"sk-container-id-8\" class=\"sk-top-container\"><div class=\"sk-text-repr-fallback\"><pre>RandomForestClassifier(random_state=42)</pre><b>In a Jupyter environment, please rerun this cell to show the HTML representation or trust the notebook. <br />On GitHub, the HTML representation is unable to render, please try loading this page with nbviewer.org.</b></div><div class=\"sk-container\" hidden><div class=\"sk-item\"><div class=\"sk-estimator sk-toggleable\"><input class=\"sk-toggleable__control sk-hidden--visually\" id=\"sk-estimator-id-8\" type=\"checkbox\" checked><label for=\"sk-estimator-id-8\" class=\"sk-toggleable__label sk-toggleable__label-arrow\">RandomForestClassifier</label><div class=\"sk-toggleable__content\"><pre>RandomForestClassifier(random_state=42)</pre></div></div></div></div></div>"
      ],
      "text/plain": [
       "RandomForestClassifier(random_state=42)"
      ]
     },
     "execution_count": 118,
     "metadata": {},
     "output_type": "execute_result"
    }
   ],
   "source": [
    "\n",
    "#Train the model\n",
    "rf = RandomForestClassifier(n_estimators=100, random_state=42)\n",
    "X_train.columns = X_train.columns.astype(str)\n",
    "rf.fit(X_train, y_train)"
   ]
  },
  {
   "cell_type": "code",
   "execution_count": 119,
   "metadata": {},
   "outputs": [],
   "source": [
    "#Predict on the testing set\n",
    "X_test.columns = X_test.columns.astype(str)\n",
    "y_pred = rf.predict(X_test)"
   ]
  },
  {
   "cell_type": "code",
   "execution_count": 120,
   "metadata": {},
   "outputs": [
    {
     "name": "stdout",
     "output_type": "stream",
     "text": [
      "Accuracy: 0.9673333333333334\n",
      "Precision: 0.75\n",
      "Recall: 0.11320754716981132\n",
      "F1 score: 0.19672131147540986\n",
      "ROC AUC score: 0.5559126885814503\n"
     ]
    }
   ],
   "source": [
    "#Evaluate the model\n",
    "accuracy = accuracy_score(y_test, y_pred)\n",
    "precision = precision_score(y_test, y_pred)\n",
    "recall = recall_score(y_test, y_pred)\n",
    "f1 = f1_score(y_test, y_pred)\n",
    "roc_auc = roc_auc_score(y_test, y_pred)\n",
    "fpr, tpr, _ = roc_curve(y_test, y_pred)\n",
    "\n",
    "print('Accuracy:', accuracy)\n",
    "print('Precision:', precision)\n",
    "print('Recall:', recall)\n",
    "print('F1 score:', f1)\n",
    "print('ROC AUC score:', roc_auc)"
   ]
  },
  {
   "cell_type": "code",
   "execution_count": 121,
   "metadata": {},
   "outputs": [
    {
     "data": {
      "image/png": "[encoded data removed]",
      "text/plain": [
       "<Figure size 640x480 with 1 Axes>"
      ]
     },
     "metadata": {},
     "output_type": "display_data"
    }
   ],
   "source": [
    "#Plot the ROC curve\n",
    "plt.plot(fpr, tpr, color='blue', label='ROC curve')\n",
    "plt.plot([0, 1], [0, 1], color='red', linestyle='--', label='Random guess')\n",
    "plt.xlabel('False Positive Rate')\n",
    "plt.ylabel('True Positive Rate')\n",
    "plt.title('ROC Curve')\n",
    "plt.legend()\n",
    "plt.show()\n"
   ]
  },
  {
   "attachments": {},
   "cell_type": "markdown",
   "metadata": {},
   "source": [
    "4. Model comparison and selection"
   ]
  },
  {
   "cell_type": "code",
   "execution_count": 122,
   "metadata": {},
   "outputs": [
    {
     "name": "stderr",
     "output_type": "stream",
     "text": [
      "/Users/martinravelo/Library/Python/3.9/lib/python/site-packages/sklearn/linear_model/_logistic.py:458: ConvergenceWarning: lbfgs failed to converge (status=1):\n",
      "STOP: TOTAL NO. of ITERATIONS REACHED LIMIT.\n",
      "\n",
      "Increase the number of iterations (max_iter) or scale the data as shown in:\n",
      "    https://scikit-learn.org/stable/modules/preprocessing.html\n",
      "Please also refer to the documentation for alternative solver options:\n",
      "    https://scikit-learn.org/stable/modules/linear_model.html#logistic-regression\n",
      "  n_iter_i = _check_optimize_result(\n"
     ]
    },
    {
     "name": "stdout",
     "output_type": "stream",
     "text": [
      "Random Forest mean accuracy: 0.9691428571428571\n",
      "Random Forest standard deviation: 0.002321153829895984\n",
      "Logistic Regression mean accuracy: 0.9645714285714286\n",
      "Logistic Regression standard deviation: 0.0005714285714285783\n"
     ]
    },
    {
     "name": "stderr",
     "output_type": "stream",
     "text": [
      "/Users/martinravelo/Library/Python/3.9/lib/python/site-packages/sklearn/linear_model/_logistic.py:458: ConvergenceWarning: lbfgs failed to converge (status=1):\n",
      "STOP: TOTAL NO. of ITERATIONS REACHED LIMIT.\n",
      "\n",
      "Increase the number of iterations (max_iter) or scale the data as shown in:\n",
      "    https://scikit-learn.org/stable/modules/preprocessing.html\n",
      "Please also refer to the documentation for alternative solver options:\n",
      "    https://scikit-learn.org/stable/modules/linear_model.html#logistic-regression\n",
      "  n_iter_i = _check_optimize_result(\n"
     ]
    }
   ],
   "source": [
    "from sklearn.model_selection import cross_val_score\n",
    "\n",
    "#define the two models\n",
    "rf = RandomForestClassifier(n_estimators=100, random_state=42)\n",
    "lr = LogisticRegression()\n",
    "\n",
    "#calculate cross-validation scores for each model\n",
    "rf_scores = cross_val_score(rf, X_train, y_train, cv=5, scoring='accuracy')\n",
    "lr_scores = cross_val_score(lr, X_train, y_train, cv=5, scoring='accuracy')\n",
    "\n",
    "#print the mean and standard deviation of the scores for each model\n",
    "print(\"Random Forest mean accuracy:\", rf_scores.mean())\n",
    "print(\"Random Forest standard deviation:\", rf_scores.std())\n",
    "print(\"Logistic Regression mean accuracy:\", lr_scores.mean())\n",
    "print(\"Logistic Regression standard deviation:\", lr_scores.std())"
   ]
  },
  {
   "attachments": {},
   "cell_type": "markdown",
   "metadata": {},
   "source": [
    "5. Interpretation of results"
   ]
  },
  {
   "attachments": {},
   "cell_type": "markdown",
   "metadata": {},
   "source": [
    "based on the comparison of the two model results :\n",
    "\n",
    "- The Random Forest model has a mean accuracy of 0.969 with a standard deviation of 0.002. This suggests that the model is performing consistently well in predicting machine failures.\n",
    "- The Logistic Regression model has a slightly lower mean accuracy of 0.965 with a standard deviation of 0.001. This suggests that the model is also performing well, but not as well as the Random Forest model.\n",
    "- The precision score for both models is relatively low, suggesting that the models are not very good at correctly identifying true positives (instances where machine failure is predicted correctly).\n",
    "- The recall score is very low, which suggests that the models are not very good at identifying all instances of machine failures in the data.\n",
    "- The F1 score for both models is also quite low, which indicates that the models are not well-balanced in terms of precision and recall.\n",
    "- The ROC AUC score for both models is also quite low, indicating that the models are not doing a good job of distinguishing between positive and negative instances.\n"
   ]
  },
  {
   "attachments": {},
   "cell_type": "markdown",
   "metadata": {},
   "source": [
    "6. Recommendations and insights"
   ]
  },
  {
   "attachments": {},
   "cell_type": "markdown",
   "metadata": {},
   "source": [
    "Recommandations and insights :\n",
    "- Random Forest Classifier outperformed the Logistic Regression model in terms of accuracy, precision, recall, F1 score and ROC AUC score. Therefore, it is recommended to use the Random Forest model to predict machine failure based on the observed attributes.\n",
    "- The precision score of the Random Forest model was 0.75, which indicates that the model correctly identified 75% of the machine failures, the recall score was relatively low (0.11), indicating that the model missed identifying a significant number of machine failures.\n",
    "- The features with the most significant impact on predicting machine failure are Tool wear, Process temperature and Rotational speed. Therefore, it is recommended to focus on monitoring these features more closely to prevent machine failures.\n",
    "- The company should implement a regular maintenance schedule for the machines to ensure that they are functioning properly. This will help to prevent unexpected failures and reduce downtime.\n",
    "- The company should continuously monitor and evaluate the performance of the model to ensure that it remains accurate and relevant. This will involve collecting new data, retraining the model, and comparing its performance with previous iterations.\n",
    "\n",
    "By implementing these recommendations, the company can reduce the risk of machine failure, improve productivity, and ultimately, increase profitability.\n"
   ]
  }
 ],
 "metadata": {
  "kernelspec": {
   "display_name": "Python 3",
   "language": "python",
   "name": "python3"
  },
  "language_info": {
   "codemirror_mode": {
    "name": "ipython",
    "version": 3
   },
   "file_extension": ".py",
   "mimetype": "text/x-python",
   "name": "python",
   "nbconvert_exporter": "python",
   "pygments_lexer": "ipython3",
   "version": "3.9.6"
  },
  "orig_nbformat": 4,
  "vscode": {
   "interpreter": {
    "hash": "31f2aee4e71d21fbe5cf8b01ff0e069b9275f58929596ceb00d14d90e3e16cd6"
   }
  }
 },
 "nbformat": 4,
 "nbformat_minor": 2
}
